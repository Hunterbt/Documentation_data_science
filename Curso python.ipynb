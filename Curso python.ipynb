{
 "cells": [
  {
   "cell_type": "markdown",
   "id": "ed74fa31",
   "metadata": {},
   "source": [
    "# Introdução"
   ]
  },
  {
   "cell_type": "markdown",
   "id": "07b89a23",
   "metadata": {},
   "source": [
    "## Variáveis"
   ]
  },
  {
   "cell_type": "markdown",
   "id": "daa3f0b9",
   "metadata": {},
   "source": [
    "Uma variável em programação é um espaço na memória do computador, onde dados de diferentes tipos (como números, texto ou objetos) podem ser armazenados. Ela é identificada por um nome simbólico, que permite o acesso e manipulação dos dados durante a execução do programa."
   ]
  },
  {
   "cell_type": "markdown",
   "id": "0378f84f",
   "metadata": {},
   "source": [
    "A criação de uma variavel em python é a seguinte:"
   ]
  },
  {
   "cell_type": "code",
   "execution_count": 2,
   "id": "764f11bb",
   "metadata": {
    "ExecuteTime": {
     "end_time": "2025-01-19T21:57:26.566866Z",
     "start_time": "2025-01-19T21:57:26.550346Z"
    }
   },
   "outputs": [],
   "source": [
    "variavel = 1"
   ]
  },
  {
   "cell_type": "markdown",
   "id": "ba6b162c",
   "metadata": {},
   "source": [
    "**Regras usadas na criação de vareáveis:**"
   ]
  },
  {
   "cell_type": "markdown",
   "id": "b5436bbb",
   "metadata": {},
   "source": [
    "1. Não pode começar com um número.\n",
    "2. Não pode conter caracteres especiais(\"\" , ~ , ; . etc) , mas pode ter acentos (á , é).\n",
    "3. Não pode ter espaços no nome."
   ]
  },
  {
   "cell_type": "markdown",
   "id": "560d55e2",
   "metadata": {
    "ExecuteTime": {
     "end_time": "2025-01-19T22:09:51.536059Z",
     "start_time": "2025-01-19T22:09:51.250799Z"
    }
   },
   "source": [
    "**É possivel criar múltiplas vareáveis numa mesma linha**"
   ]
  },
  {
   "cell_type": "code",
   "execution_count": 10,
   "id": "837fc876",
   "metadata": {
    "ExecuteTime": {
     "end_time": "2025-01-19T22:14:52.094865Z",
     "start_time": "2025-01-19T22:14:52.082578Z"
    }
   },
   "outputs": [
    {
     "name": "stdout",
     "output_type": "stream",
     "text": [
      "Variavel_2 = teste de texto\n"
     ]
    }
   ],
   "source": [
    "variavel_1 , variavel_2 , variavel_3 = 1 , 'teste de texto' , 3\n",
    "\n",
    "# Verificando valor  da variavel 2\n",
    "print(f'Variavel_2 = {variavel_2}')"
   ]
  },
  {
   "cell_type": "markdown",
   "id": "8aa7745c",
   "metadata": {
    "ExecuteTime": {
     "end_time": "2025-01-19T22:11:49.113151Z",
     "start_time": "2025-01-19T22:11:49.081266Z"
    }
   },
   "source": [
    "Cada variavel dependendo do valor inserido tem um tipo de dado diferente"
   ]
  },
  {
   "cell_type": "code",
   "execution_count": 12,
   "id": "f68b4794",
   "metadata": {
    "ExecuteTime": {
     "end_time": "2025-01-19T22:15:11.592137Z",
     "start_time": "2025-01-19T22:15:11.577412Z"
    }
   },
   "outputs": [
    {
     "name": "stdout",
     "output_type": "stream",
     "text": [
      "<class 'int'>\n",
      "<class 'str'>\n"
     ]
    }
   ],
   "source": [
    "#Imprimindo valor para visualização de vareáveis\n",
    "\n",
    "print(type(variavel))\n",
    "print(type(variavel_2))\n"
   ]
  },
  {
   "cell_type": "markdown",
   "id": "7aa899ca",
   "metadata": {},
   "source": [
    "## Numeros Inteiros (int)"
   ]
  },
  {
   "cell_type": "markdown",
   "id": "0d93b9c8",
   "metadata": {},
   "source": [
    "Um número inteiro (int) é um número que não possui casas decimais. Ele pode ser positivo , negativo ou zero.\n",
    "\n",
    "Exemplos: -5,-4,-3,-2,-1,0,1,5,3,4,5"
   ]
  },
  {
   "cell_type": "code",
   "execution_count": 14,
   "id": "412fe018",
   "metadata": {
    "ExecuteTime": {
     "end_time": "2025-01-19T22:33:53.188871Z",
     "start_time": "2025-01-19T22:33:53.181867Z"
    }
   },
   "outputs": [
    {
     "name": "stdout",
     "output_type": "stream",
     "text": [
      "Valor: 10, Tipo <class 'int'>\n"
     ]
    }
   ],
   "source": [
    "# Definindo um número inteiro\n",
    "numero_inteiro = 10\n",
    "print(f'Valor: {numero_inteiro}, Tipo {type(numero_inteiro)}')"
   ]
  },
  {
   "cell_type": "markdown",
   "id": "5434d3e3",
   "metadata": {},
   "source": [
    "## Numeros de Ponto Flutuante(float)"
   ]
  },
  {
   "cell_type": "markdown",
   "id": "6ead85c1",
   "metadata": {
    "ExecuteTime": {
     "end_time": "2025-01-19T22:36:41.161458Z",
     "start_time": "2025-01-19T22:36:41.149491Z"
    }
   },
   "source": [
    "Um número de ponto flutuante(float)é um número que possui casas decimais.Ele é utilizado para representar valores reais que não são inteiros.\n",
    "\n",
    "Exemplo: 3.4 , 3.5 , 100.2"
   ]
  },
  {
   "cell_type": "code",
   "execution_count": null,
   "id": "9c9ac65e",
   "metadata": {
    "ExecuteTime": {
     "start_time": "2025-01-19T22:46:15.551Z"
    }
   },
   "outputs": [],
   "source": [
    "# Definindo um número de ponto flutuante\n",
    "numero_float = 3.14\n",
    "print(f'Valor: {numero_float} , Tipo {type(numero_float)}')"
   ]
  },
  {
   "cell_type": "markdown",
   "id": "6745e16c",
   "metadata": {},
   "source": [
    "## Exemplos de Código em Python"
   ]
  },
  {
   "cell_type": "markdown",
   "id": "d85895ab",
   "metadata": {},
   "source": [
    "**Exercício 1: Soma de Números Inteiros**\n",
    "\n",
    "Descrição: Crie um programa que leia dois números inteiros e imprima a soma deles."
   ]
  },
  {
   "cell_type": "code",
   "execution_count": 8,
   "id": "cbbace6a",
   "metadata": {
    "ExecuteTime": {
     "end_time": "2025-01-19T22:55:59.907569Z",
     "start_time": "2025-01-19T22:55:58.432332Z"
    }
   },
   "outputs": [
    {
     "name": "stdout",
     "output_type": "stream",
     "text": [
      "Insira o primer número inteiro = 2\n",
      "Insira o segundo número inteiro = 2\n",
      "O resultado obtido da suma de númber_1 e numer_2 é igual a= 4\n"
     ]
    }
   ],
   "source": [
    "# Exercicio Soma de numeros inteiros\n",
    "number_1 = int(input('Insira o primer número inteiro = '))\n",
    "number_2 = int(input('Insira o segundo número inteiro = '))\n",
    "\n",
    "# Armazenando calculo matematico em uma variavel\n",
    "calculo = number_1 + number_2\n",
    "\n",
    "print(f'O resultado obtido da suma de númber_1 e numer_2 é igual a= {calculo}')"
   ]
  },
  {
   "cell_type": "markdown",
   "id": "3a599ce4",
   "metadata": {},
   "source": [
    "**Exercício 2: Média de Números Flutuantes**\n",
    "\n",
    "Descrição: Crie um programa que leia dois números de ponto flutuante e imprima a média deles."
   ]
  },
  {
   "attachments": {
    "image-2.png": {
     "image/png": "[encoded data removed]"
    },
    "image.png": {
     "image/png": "[encoded data removed]"
    }
   },
   "cell_type": "markdown",
   "id": "339bef03",
   "metadata": {},
   "source": [
    "**Definição Matematica de Media**\n",
    "\n",
    "A média aritmética de um conjunto de números é o valor que representa o \"centro\" ou \"tendência central\" desse conjunto. Para calcular a média de um conjunto de números, somamos todos os elementos do conjunto e dividimos essa soma pelo número de elementos.\n",
    "\n",
    "A fórmula matematicaa para a média aritmetica é:\n",
    "\n",
    "![image.png](attachment:image.png)\n",
    "\n",
    "**onde:**\n",
    "\n",
    "x1 , x2 ... xn são os números do conjunto\n",
    "\n",
    "n é o número total de elementos no conjunto\n",
    "\n",
    "![image-2.png](attachment:image-2.png)"
   ]
  },
  {
   "cell_type": "code",
   "execution_count": 19,
   "id": "dac53619",
   "metadata": {
    "ExecuteTime": {
     "end_time": "2025-01-19T23:13:29.249009Z",
     "start_time": "2025-01-19T23:13:27.245990Z"
    }
   },
   "outputs": [
    {
     "name": "stdout",
     "output_type": "stream",
     "text": [
      "Insira o primer número = 2\n",
      "Insira o segundo número = 2\n",
      "A media entre o [2.0] e [2.0] é 2.000\n"
     ]
    }
   ],
   "source": [
    "# Exercicio média de números flutuantes\n",
    "number_1 = float(input(f'Insira o primer número = '))\n",
    "number_2 = float(input(f'Insira o segundo número = '))\n",
    "# Resolução matematica - principio de media aritmetica\n",
    "calculo = (number_1 + number_2) / 2\n",
    "print(f'A media entre o [{number_1}] e [{number_2}] é {calculo:.3f}') # Formatação trazendo 2 digitos"
   ]
  },
  {
   "cell_type": "markdown",
   "id": "6aeae5fd",
   "metadata": {},
   "source": [
    "**Exercício 3: Conversão de Temperatura**\n",
    "\n",
    "Descrição: Crie um programa que converta uma temperatura de Celsius para Fahrenheit.\n",
    "\n",
    "Fórmula: F = (C * 9/5) + 32"
   ]
  },
  {
   "attachments": {
    "image.png": {
     "image/png": "[encoded data removed]"
    }
   },
   "cell_type": "markdown",
   "id": "afa1d5d2",
   "metadata": {
    "ExecuteTime": {
     "end_time": "2025-01-19T23:24:47.067188Z",
     "start_time": "2025-01-19T23:24:47.053629Z"
    }
   },
   "source": [
    "**Definição matematica de Fórmula: F = (C * 9/5) + 32**\n",
    "\n",
    "A fórmula: ![image.png](attachment:image.png)\n",
    "\n",
    "É utilizada para converter uma temperatura em graus Celsius (C) para graus Fahrenheit (F). A definição matemática é a seguinte:\n",
    "\n",
    "1. **C**: A temperatura em graus Celsius.\n",
    "2. **F**: A temperatura em graus Fahrenheit.\n",
    "3. **Multiplicação**: Multiplica-se a temperatura em Celsius por \\( \\frac{9}{5} \\), que é o fator de conversão entre os intervalos das escalas Celsius e Fahrenheit.\n",
    "4. **Adição de 32**: Após multiplicar, soma-se 32, que é a diferença de ponto de origem entre as escalas Celsius e Fahrenheit. Em Fahrenheit, 0°C corresponde a 32°F.\n",
    "\n",
    "Portanto, a fórmula descreve a relação de conversão entre as duas escalas de temperatura. A operação pode ser interpretada como um processo que envolve ampliação do intervalo de temperatura (multiplicação por \\( \\frac{9}{5} \\)) e ajuste do ponto de origem (adição de 32)."
   ]
  },
  {
   "cell_type": "code",
   "execution_count": 23,
   "id": "d4ea9620",
   "metadata": {
    "ExecuteTime": {
     "end_time": "2025-01-19T23:30:59.055216Z",
     "start_time": "2025-01-19T23:30:57.819282Z"
    }
   },
   "outputs": [
    {
     "name": "stdout",
     "output_type": "stream",
     "text": [
      "Digite a temperatura em celcius : 2\n",
      "2.0°C é igual a 35.6°F\n"
     ]
    }
   ],
   "source": [
    "# Exercicio , Conversão de Temperatura\n",
    "celsius = float(input('Digite a temperatura em celcius : '))\n",
    "fahrenheit = (celsius * 9/5) + 32\n",
    "print(f'{celsius}°C é igual a {fahrenheit}°F')"
   ]
  },
  {
   "cell_type": "code",
   "execution_count": null,
   "id": "3ba06072",
   "metadata": {},
   "outputs": [],
   "source": []
  }
 ],
 "metadata": {
  "kernelspec": {
   "display_name": "Python 3 (ipykernel)",
   "language": "python",
   "name": "python3"
  },
  "language_info": {
   "codemirror_mode": {
    "name": "ipython",
    "version": 3
   },
   "file_extension": ".py",
   "mimetype": "text/x-python",
   "name": "python",
   "nbconvert_exporter": "python",
   "pygments_lexer": "ipython3",
   "version": "3.12.8"
  },
  "toc": {
   "base_numbering": 1,
   "nav_menu": {},
   "number_sections": true,
   "sideBar": true,
   "skip_h1_title": false,
   "title_cell": "Table of Contents",
   "title_sidebar": "Contents",
   "toc_cell": false,
   "toc_position": {
    "height": "calc(100% - 180px)",
    "left": "10px",
    "top": "150px",
    "width": "187px"
   },
   "toc_section_display": true,
   "toc_window_display": true
  },
  "varInspector": {
   "cols": {
    "lenName": 16,
    "lenType": 16,
    "lenVar": 40
   },
   "kernels_config": {
    "python": {
     "delete_cmd_postfix": "",
     "delete_cmd_prefix": "del ",
     "library": "var_list.py",
     "varRefreshCmd": "print(var_dic_list())"
    },
    "r": {
     "delete_cmd_postfix": ") ",
     "delete_cmd_prefix": "rm(",
     "library": "var_list.r",
     "varRefreshCmd": "cat(var_dic_list()) "
    }
   },
   "types_to_exclude": [
    "module",
    "function",
    "builtin_function_or_method",
    "instance",
    "_Feature"
   ],
   "window_display": false
  }
 },
 "nbformat": 4,
 "nbformat_minor": 5
}
