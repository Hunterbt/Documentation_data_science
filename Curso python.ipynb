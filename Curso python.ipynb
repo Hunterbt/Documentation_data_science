{
 "cells": [
  {
   "cell_type": "markdown",
   "id": "ed74fa31",
   "metadata": {},
   "source": [
    "# Introdução"
   ]
  },
  {
   "cell_type": "markdown",
   "id": "07b89a23",
   "metadata": {},
   "source": [
    "## Variáveis"
   ]
  },
  {
   "cell_type": "markdown",
   "id": "daa3f0b9",
   "metadata": {},
   "source": [
    "Uma variável em programação é um espaço na memória do computador, onde dados de diferentes tipos (como números, texto ou objetos) podem ser armazenados. Ela é identificada por um nome simbólico, que permite o acesso e manipulação dos dados durante a execução do programa."
   ]
  },
  {
   "cell_type": "markdown",
   "id": "0378f84f",
   "metadata": {},
   "source": [
    "A criação de uma variavel em python é a seguinte:"
   ]
  },
  {
   "cell_type": "code",
   "execution_count": 2,
   "id": "764f11bb",
   "metadata": {
    "ExecuteTime": {
     "end_time": "2025-01-19T21:57:26.566866Z",
     "start_time": "2025-01-19T21:57:26.550346Z"
    }
   },
   "outputs": [],
   "source": [
    "variavel = 1"
   ]
  },
  {
   "cell_type": "markdown",
   "id": "ba6b162c",
   "metadata": {},
   "source": [
    "**Regras usadas na criação de vareáveis:**"
   ]
  },
  {
   "cell_type": "markdown",
   "id": "b5436bbb",
   "metadata": {},
   "source": [
    "1. Não pode começar com um número.\n",
    "2. Não pode conter caracteres especiais(\"\" , ~ , ; . etc) , mas pode ter acentos (á , é).\n",
    "3. Não pode ter espaços no nome."
   ]
  },
  {
   "cell_type": "markdown",
   "id": "560d55e2",
   "metadata": {
    "ExecuteTime": {
     "end_time": "2025-01-19T22:09:51.536059Z",
     "start_time": "2025-01-19T22:09:51.250799Z"
    }
   },
   "source": [
    "**É possivel criar múltiplas vareáveis numa mesma linha**"
   ]
  },
  {
   "cell_type": "code",
   "execution_count": 10,
   "id": "837fc876",
   "metadata": {
    "ExecuteTime": {
     "end_time": "2025-01-19T22:14:52.094865Z",
     "start_time": "2025-01-19T22:14:52.082578Z"
    }
   },
   "outputs": [
    {
     "name": "stdout",
     "output_type": "stream",
     "text": [
      "Variavel_2 = teste de texto\n"
     ]
    }
   ],
   "source": [
    "variavel_1 , variavel_2 , variavel_3 = 1 , 'teste de texto' , 3\n",
    "\n",
    "# Verificando valor  da variavel 2\n",
    "print(f'Variavel_2 = {variavel_2}')"
   ]
  },
  {
   "cell_type": "markdown",
   "id": "8aa7745c",
   "metadata": {
    "ExecuteTime": {
     "end_time": "2025-01-19T22:11:49.113151Z",
     "start_time": "2025-01-19T22:11:49.081266Z"
    }
   },
   "source": [
    "Cada variavel dependendo do valor inserido tem um tipo de dado diferente"
   ]
  },
  {
   "cell_type": "code",
   "execution_count": 12,
   "id": "f68b4794",
   "metadata": {
    "ExecuteTime": {
     "end_time": "2025-01-19T22:15:11.592137Z",
     "start_time": "2025-01-19T22:15:11.577412Z"
    }
   },
   "outputs": [
    {
     "name": "stdout",
     "output_type": "stream",
     "text": [
      "<class 'int'>\n",
      "<class 'str'>\n"
     ]
    }
   ],
   "source": [
    "#Imprimindo valor para visualização de vareáveis\n",
    "\n",
    "print(type(variavel))\n",
    "print(type(variavel_2))\n"
   ]
  },
  {
   "cell_type": "markdown",
   "id": "7aa899ca",
   "metadata": {},
   "source": [
    "## Numeros Inteiros (int)"
   ]
  },
  {
   "cell_type": "markdown",
   "id": "0d93b9c8",
   "metadata": {},
   "source": [
    "Um número inteiro (int) é um número que não possui casas decimais. Ele pode ser positivo , negativo ou zero.\n",
    "\n",
    "Exemplos: -5,-4,-3,-2,-1,0,1,5,3,4,5"
   ]
  },
  {
   "cell_type": "code",
   "execution_count": 14,
   "id": "412fe018",
   "metadata": {
    "ExecuteTime": {
     "end_time": "2025-01-19T22:33:53.188871Z",
     "start_time": "2025-01-19T22:33:53.181867Z"
    }
   },
   "outputs": [
    {
     "name": "stdout",
     "output_type": "stream",
     "text": [
      "Valor: 10, Tipo <class 'int'>\n"
     ]
    }
   ],
   "source": [
    "# Definindo um número inteiro\n",
    "numero_inteiro = 10\n",
    "print(f'Valor: {numero_inteiro}, Tipo {type(numero_inteiro)}')"
   ]
  },
  {
   "cell_type": "markdown",
   "id": "5434d3e3",
   "metadata": {},
   "source": [
    "## Numeros de Ponto Flutuante(float)"
   ]
  },
  {
   "cell_type": "markdown",
   "id": "6ead85c1",
   "metadata": {
    "ExecuteTime": {
     "end_time": "2025-01-19T22:36:41.161458Z",
     "start_time": "2025-01-19T22:36:41.149491Z"
    }
   },
   "source": [
    "Um número de ponto flutuante(float)é um número que possui casas decimais.Ele é utilizado para representar valores reais que não são inteiros.\n",
    "\n",
    "Exemplo: 3.4 , 3.5 , 100.2"
   ]
  },
  {
   "cell_type": "code",
   "execution_count": null,
   "id": "9c9ac65e",
   "metadata": {
    "ExecuteTime": {
     "start_time": "2025-01-19T22:46:15.551Z"
    }
   },
   "outputs": [],
   "source": [
    "# Definindo um número de ponto flutuante\n",
    "numero_float = 3.14\n",
    "print(f'Valor: {numero_float} , Tipo {type(numero_float)}')"
   ]
  },
  {
   "cell_type": "markdown",
   "id": "6745e16c",
   "metadata": {},
   "source": [
    "## Exercicios de Código em Python"
   ]
  },
  {
   "cell_type": "markdown",
   "id": "d85895ab",
   "metadata": {},
   "source": [
    "**Exercício 1: Soma de Números Inteiros**\n",
    "\n",
    "Descrição: Crie um programa que leia dois números inteiros e imprima a soma deles."
   ]
  },
  {
   "cell_type": "code",
   "execution_count": 8,
   "id": "cbbace6a",
   "metadata": {
    "ExecuteTime": {
     "end_time": "2025-01-19T22:55:59.907569Z",
     "start_time": "2025-01-19T22:55:58.432332Z"
    }
   },
   "outputs": [
    {
     "name": "stdout",
     "output_type": "stream",
     "text": [
      "Insira o primer número inteiro = 2\n",
      "Insira o segundo número inteiro = 2\n",
      "O resultado obtido da suma de númber_1 e numer_2 é igual a= 4\n"
     ]
    }
   ],
   "source": [
    "# Exercicio Soma de numeros inteiros\n",
    "number_1 = int(input('Insira o primer número inteiro = '))\n",
    "number_2 = int(input('Insira o segundo número inteiro = '))\n",
    "\n",
    "# Armazenando calculo matematico em uma variavel\n",
    "calculo = number_1 + number_2\n",
    "\n",
    "print(f'O resultado obtido da suma de númber_1 e numer_2 é igual a= {calculo}')"
   ]
  },
  {
   "cell_type": "markdown",
   "id": "3a599ce4",
   "metadata": {},
   "source": [
    "**Exercício 2: Média de Números Flutuantes**\n",
    "\n",
    "Descrição: Crie um programa que leia dois números de ponto flutuante e imprima a média deles."
   ]
  },
  {
   "attachments": {
    "image-2.png": {
     "image/png": "[encoded data removed]"
    },
    "image.png": {
     "image/png": "[encoded data removed]"
    }
   },
   "cell_type": "markdown",
   "id": "339bef03",
   "metadata": {},
   "source": [
    "**Definição Matematica de Media**\n",
    "\n",
    "A média aritmética de um conjunto de números é o valor que representa o \"centro\" ou \"tendência central\" desse conjunto. Para calcular a média de um conjunto de números, somamos todos os elementos do conjunto e dividimos essa soma pelo número de elementos.\n",
    "\n",
    "A fórmula matematicaa para a média aritmetica é:\n",
    "\n",
    "![image.png](attachment:image.png)\n",
    "\n",
    "**onde:**\n",
    "\n",
    "x1 , x2 ... xn são os números do conjunto\n",
    "\n",
    "n é o número total de elementos no conjunto\n",
    "\n",
    "![image-2.png](attachment:image-2.png)"
   ]
  },
  {
   "cell_type": "code",
   "execution_count": 19,
   "id": "dac53619",
   "metadata": {
    "ExecuteTime": {
     "end_time": "2025-01-19T23:13:29.249009Z",
     "start_time": "2025-01-19T23:13:27.245990Z"
    }
   },
   "outputs": [
    {
     "name": "stdout",
     "output_type": "stream",
     "text": [
      "Insira o primer número = 2\n",
      "Insira o segundo número = 2\n",
      "A media entre o [2.0] e [2.0] é 2.000\n"
     ]
    }
   ],
   "source": [
    "# Exercicio média de números flutuantes\n",
    "number_1 = float(input(f'Insira o primer número = '))\n",
    "number_2 = float(input(f'Insira o segundo número = '))\n",
    "# Resolução matematica - principio de media aritmetica\n",
    "calculo = (number_1 + number_2) / 2\n",
    "print(f'A media entre o [{number_1}] e [{number_2}] é {calculo:.3f}') # Formatação trazendo 2 digitos"
   ]
  },
  {
   "cell_type": "markdown",
   "id": "6aeae5fd",
   "metadata": {},
   "source": [
    "**Exercício 3: Conversão de Temperatura**\n",
    "\n",
    "Descrição: Crie um programa que converta uma temperatura de Celsius para Fahrenheit.\n",
    "\n",
    "Fórmula: F = (C * 9/5) + 32"
   ]
  },
  {
   "attachments": {
    "image.png": {
     "image/png": "[encoded data removed]"
    }
   },
   "cell_type": "markdown",
   "id": "afa1d5d2",
   "metadata": {
    "ExecuteTime": {
     "end_time": "2025-01-19T23:24:47.067188Z",
     "start_time": "2025-01-19T23:24:47.053629Z"
    }
   },
   "source": [
    "**Definição matematica de Fórmula: F = (C * 9/5) + 32**\n",
    "\n",
    "A fórmula: ![image.png](attachment:image.png)\n",
    "\n",
    "É utilizada para converter uma temperatura em graus Celsius (C) para graus Fahrenheit (F). A definição matemática é a seguinte:\n",
    "\n",
    "1. **C**: A temperatura em graus Celsius.\n",
    "2. **F**: A temperatura em graus Fahrenheit.\n",
    "3. **Multiplicação**: Multiplica-se a temperatura em Celsius por \\( \\frac{9}{5} \\), que é o fator de conversão entre os intervalos das escalas Celsius e Fahrenheit.\n",
    "4. **Adição de 32**: Após multiplicar, soma-se 32, que é a diferença de ponto de origem entre as escalas Celsius e Fahrenheit. Em Fahrenheit, 0°C corresponde a 32°F.\n",
    "\n",
    "Portanto, a fórmula descreve a relação de conversão entre as duas escalas de temperatura. A operação pode ser interpretada como um processo que envolve ampliação do intervalo de temperatura (multiplicação por \\( \\frac{9}{5} \\)) e ajuste do ponto de origem (adição de 32)."
   ]
  },
  {
   "cell_type": "code",
   "execution_count": 23,
   "id": "d4ea9620",
   "metadata": {
    "ExecuteTime": {
     "end_time": "2025-01-19T23:30:59.055216Z",
     "start_time": "2025-01-19T23:30:57.819282Z"
    }
   },
   "outputs": [
    {
     "name": "stdout",
     "output_type": "stream",
     "text": [
      "Digite a temperatura em celcius : 2\n",
      "2.0°C é igual a 35.6°F\n"
     ]
    }
   ],
   "source": [
    "# Exercicio , Conversão de Temperatura\n",
    "celsius = float(input('Digite a temperatura em celcius : '))\n",
    "fahrenheit = (celsius * 9/5) + 32\n",
    "print(f'{celsius}°C é igual a {fahrenheit}°F')"
   ]
  },
  {
   "cell_type": "markdown",
   "id": "c9533f35",
   "metadata": {},
   "source": [
    "# Estruturas de Dados "
   ]
  },
  {
   "cell_type": "markdown",
   "id": "8634051b",
   "metadata": {},
   "source": [
    "## listas"
   ]
  },
  {
   "cell_type": "markdown",
   "id": "c7fca42d",
   "metadata": {
    "ExecuteTime": {
     "end_time": "2025-01-28T00:35:16.615154Z",
     "start_time": "2025-01-28T00:35:16.589665Z"
    }
   },
   "source": [
    "Uma lista em Python é uma estrutura de dados ordenada que pode armazenar múltiplos valores em uma única variável. É uma das coleções mais versáteis e amplamente utilizadas, pois permite armazenar diferentes tipos de dados (números, strings, outros objetos) e manipulá-los de várias maneiras.\n",
    "\n"
   ]
  },
  {
   "cell_type": "code",
   "execution_count": 3,
   "id": "2dfba369",
   "metadata": {
    "ExecuteTime": {
     "end_time": "2025-01-28T00:37:45.386183Z",
     "start_time": "2025-01-28T00:37:45.377591Z"
    }
   },
   "outputs": [
    {
     "name": "stdout",
     "output_type": "stream",
     "text": [
      "['\"arroz\",\"leite\",\"canela\",\"azucar\"']\n"
     ]
    }
   ],
   "source": [
    "# Criando uma lista de uma sola string\n",
    "\n",
    "ingredientes_receita = ['\"arroz\",\"leite\",\"canela\",\"azucar\"']\n",
    "print(ingredientes_receita)"
   ]
  },
  {
   "cell_type": "code",
   "execution_count": 5,
   "id": "bec1ca33",
   "metadata": {
    "ExecuteTime": {
     "end_time": "2025-01-28T00:39:42.414814Z",
     "start_time": "2025-01-28T00:39:42.406874Z"
    }
   },
   "outputs": [
    {
     "name": "stdout",
     "output_type": "stream",
     "text": [
      "Ingredientes pendentes por comprar =['azucar', 'farinha', 'manteiga', 'leite', 'sal']\n"
     ]
    }
   ],
   "source": [
    "# Criando uma lista com varios itens separados por virgula\n",
    "ingredientes_compra = ['azucar','farinha','manteiga','leite','sal']\n",
    "print(f'Ingredientes pendentes por comprar ={ingredientes_compra}')"
   ]
  },
  {
   "cell_type": "code",
   "execution_count": 6,
   "id": "29420f10",
   "metadata": {
    "ExecuteTime": {
     "end_time": "2025-01-28T00:42:10.221423Z",
     "start_time": "2025-01-28T00:42:10.192780Z"
    }
   },
   "outputs": [
    {
     "name": "stdout",
     "output_type": "stream",
     "text": [
      "ingredientes com sua quantidade ['azucar', 1, 'leita', 2, 'farinha', 3]\n"
     ]
    }
   ],
   "source": [
    "# Criando lista com numeros e string , varios tipos de dados\n",
    "ingredientes_valor = ['azucar',1,'leita',2,'farinha',3]\n",
    "print(f'ingredientes com sua quantidade {ingredientes_valor}')"
   ]
  },
  {
   "cell_type": "code",
   "execution_count": 8,
   "id": "2bb7fa3d",
   "metadata": {
    "ExecuteTime": {
     "end_time": "2025-01-28T00:46:16.391552Z",
     "start_time": "2025-01-28T00:46:16.380179Z"
    }
   },
   "outputs": [
    {
     "name": "stdout",
     "output_type": "stream",
     "text": [
      "segue os ingredientes com sua quantidade: \n",
      "azucar:1\n",
      "leita:3\n",
      "farinha:3\n"
     ]
    }
   ],
   "source": [
    "# Atribuindo cada valor da lista a uma variavel\n",
    "item_1 = ingredientes_valor[0]\n",
    "quantia_1 = ingredientes_valor[1]\n",
    "\n",
    "item_2 = ingredientes_valor[2]\n",
    "quantia_2 = ingredientes_valor[3]\n",
    "\n",
    "item_3 = ingredientes_valor[4]\n",
    "quantia_3 = ingredientes_valor[5]\n",
    "\n",
    "print(f'segue os ingredientes com sua quantidade: \\n{item_1}:{quantia_1}\\n{item_2}:{quantia_3}\\n{item_3}:{quantia_3}')"
   ]
  },
  {
   "cell_type": "markdown",
   "id": "ee24b443",
   "metadata": {},
   "source": [
    "**Atualizando item da Lista**"
   ]
  },
  {
   "cell_type": "code",
   "execution_count": 9,
   "id": "6842c041",
   "metadata": {
    "ExecuteTime": {
     "end_time": "2025-01-28T00:49:23.418886Z",
     "start_time": "2025-01-28T00:49:23.410821Z"
    }
   },
   "outputs": [
    {
     "name": "stdout",
     "output_type": "stream",
     "text": [
      "Alteração realizada = dvd\n"
     ]
    }
   ],
   "source": [
    "# Alteração de dados para um item da lista\n",
    "compras = ['cd','cpu']\n",
    "compras[1] = 'dvd'\n",
    "\n",
    "print(f'Alteração realizada = {compras[1]}')"
   ]
  },
  {
   "cell_type": "markdown",
   "id": "581d5c24",
   "metadata": {},
   "source": [
    "**Deletando um item da Lista**"
   ]
  },
  {
   "cell_type": "code",
   "execution_count": 13,
   "id": "a2bd9898",
   "metadata": {
    "ExecuteTime": {
     "end_time": "2025-01-28T00:51:11.255742Z",
     "start_time": "2025-01-28T00:51:11.227061Z"
    }
   },
   "outputs": [
    {
     "name": "stdout",
     "output_type": "stream",
     "text": [
      "mudança realizada segue [0, 1, 2, 3, 4]\n"
     ]
    }
   ],
   "source": [
    "lista = [0,1,2,3,4,5]\n",
    "del lista[5]\n",
    "\n",
    "print(f'mudança realizada segue {lista}')"
   ]
  },
  {
   "cell_type": "markdown",
   "id": "e2b563ee",
   "metadata": {},
   "source": [
    "**Listas de Listas {Listas Aninhadas}**"
   ]
  },
  {
   "cell_type": "markdown",
   "id": "a7b43b1b",
   "metadata": {},
   "source": [
    "Uma lista de listas em Python é uma estrutura de dados onde cada elemento de uma lista também é uma lista. Isso permite organizar os dados em formato bidimensional ou multidimensional, semelhante a uma matriz ou tabela."
   ]
  },
  {
   "cell_type": "code",
   "execution_count": 16,
   "id": "cc034592",
   "metadata": {
    "ExecuteTime": {
     "end_time": "2025-01-28T00:00:39.761326Z",
     "start_time": "2025-01-28T00:00:39.744251Z"
    }
   },
   "outputs": [
    {
     "name": "stdout",
     "output_type": "stream",
     "text": [
      "[['martillo', 'parafusadeira', 'destornillador'], [1, 2, 3, 4], ['feijão', 'arroz']]\n"
     ]
    }
   ],
   "source": [
    "ComprasxCategoria = [['martillo','parafusadeira','destornillador'],[1,2,3,4],['feijão','arroz']]\n",
    "print(ComprasxCategoria)"
   ]
  },
  {
   "cell_type": "code",
   "execution_count": 20,
   "id": "dedd2ba1",
   "metadata": {
    "ExecuteTime": {
     "end_time": "2025-01-28T00:05:16.250107Z",
     "start_time": "2025-01-28T00:05:16.240177Z"
    }
   },
   "outputs": [
    {
     "name": "stdout",
     "output_type": "stream",
     "text": [
      "['martillo', 'parafusadeira', 'destornillador']\n",
      "['feijão', 'arroz']\n"
     ]
    }
   ],
   "source": [
    "# Atribuindo um item da lista a uma variavel\n",
    "ferramentas = ComprasxCategoria[0]\n",
    "compras = ComprasxCategoria[2]\n",
    "print(f'{ferramentas}\\n{compras}')"
   ]
  },
  {
   "cell_type": "code",
   "execution_count": 22,
   "id": "087dfa19",
   "metadata": {
    "ExecuteTime": {
     "end_time": "2025-01-28T00:08:12.696393Z",
     "start_time": "2025-01-28T00:08:12.687933Z"
    }
   },
   "outputs": [
    {
     "name": "stdout",
     "output_type": "stream",
     "text": [
      "parafusadeira\n"
     ]
    }
   ],
   "source": [
    "# Trazendo segundo item da lista ferramentas\n",
    "item = ferramentas[1]\n",
    "print(item)"
   ]
  },
  {
   "cell_type": "markdown",
   "id": "12c57daa",
   "metadata": {},
   "source": [
    "**Funções Built-in**"
   ]
  },
  {
   "cell_type": "code",
   "execution_count": 23,
   "id": "ba351a2f",
   "metadata": {
    "ExecuteTime": {
     "end_time": "2025-01-28T23:41:03.154872Z",
     "start_time": "2025-01-28T23:41:03.080612Z"
    }
   },
   "outputs": [
    {
     "name": "stdout",
     "output_type": "stream",
     "text": [
      "O comprimento da lista é 5\n"
     ]
    }
   ],
   "source": [
    "# Função len() - Usado para leitura de comprimento \n",
    "\n",
    "lista = [100,200,300,400,500]\n",
    "Comprimento_lista = len(lista)\n",
    "print(f'O comprimento da lista é {Comprimento_lista}')"
   ]
  },
  {
   "cell_type": "code",
   "execution_count": 24,
   "id": "3c58001a",
   "metadata": {
    "ExecuteTime": {
     "end_time": "2025-01-28T23:42:38.094054Z",
     "start_time": "2025-01-28T23:42:38.079241Z"
    }
   },
   "outputs": [
    {
     "name": "stdout",
     "output_type": "stream",
     "text": [
      "O valor maximo da lista é 500\n"
     ]
    }
   ],
   "source": [
    "# Função max() retorna o valor maximo da lista\n",
    "valor_maximo = max(lista)\n",
    "print(f'O valor maximo da lista é {valor_maximo}')"
   ]
  },
  {
   "cell_type": "code",
   "execution_count": 25,
   "id": "a9d4861e",
   "metadata": {
    "ExecuteTime": {
     "end_time": "2025-01-28T23:43:34.716615Z",
     "start_time": "2025-01-28T23:43:34.704818Z"
    }
   },
   "outputs": [
    {
     "name": "stdout",
     "output_type": "stream",
     "text": [
      "O valor minimo da lista é 100\n"
     ]
    }
   ],
   "source": [
    "# Função min() retorna o valor minimo da lista\n",
    "valor_minimo = min(lista)\n",
    "print(f'O valor minimo da lista é {valor_minimo}')"
   ]
  },
  {
   "cell_type": "code",
   "execution_count": 27,
   "id": "9ed30d52",
   "metadata": {
    "ExecuteTime": {
     "end_time": "2025-01-28T23:48:49.762975Z",
     "start_time": "2025-01-28T23:48:49.750641Z"
    }
   },
   "outputs": [
    {
     "name": "stdout",
     "output_type": "stream",
     "text": [
      "Segue lista atualizada ['papel', 'lapiz', 'saca-puntas', 'borra', 'borra']\n"
     ]
    }
   ],
   "source": [
    "# Adicionando um item na lista com a função \".append\"\n",
    "itens = ['papel','lapiz','saca-puntas']\n",
    "itens.append('borra')\n",
    "itens.append('borra') # inserindo duplo valor para fins educativos\n",
    "\n",
    "print(f'Segue lista atualizada {itens}')\n"
   ]
  },
  {
   "cell_type": "code",
   "execution_count": 28,
   "id": "ed7e04f4",
   "metadata": {
    "ExecuteTime": {
     "end_time": "2025-01-28T23:49:41.672577Z",
     "start_time": "2025-01-28T23:49:41.599002Z"
    }
   },
   "outputs": [
    {
     "data": {
      "text/plain": [
       "2"
      ]
     },
     "execution_count": 28,
     "metadata": {},
     "output_type": "execute_result"
    }
   ],
   "source": [
    "# Contando numero de itens com o mesmo nome o numero , dependendo do caso\n",
    "itens.count('borra')"
   ]
  },
  {
   "cell_type": "code",
   "execution_count": 36,
   "id": "60480a58",
   "metadata": {
    "ExecuteTime": {
     "end_time": "2025-01-28T23:53:11.278556Z",
     "start_time": "2025-01-28T23:53:11.269662Z"
    }
   },
   "outputs": [
    {
     "name": "stdout",
     "output_type": "stream",
     "text": [
      "Segue valores inseridos [1, 2]\n"
     ]
    }
   ],
   "source": [
    "# Criação de lista vazia\n",
    "lista = []\n",
    "# inserindo novos valores na lista\n",
    "lista.append(1)\n",
    "lista.append(2)\n",
    "\n",
    "\n",
    "print(f'Segue valores inseridos {lista}')"
   ]
  },
  {
   "cell_type": "code",
   "execution_count": 42,
   "id": "ffbc9f7d",
   "metadata": {
    "ExecuteTime": {
     "end_time": "2025-01-28T23:56:52.099663Z",
     "start_time": "2025-01-28T23:56:52.088770Z"
    }
   },
   "outputs": [
    {
     "name": "stdout",
     "output_type": "stream",
     "text": [
      "[1, 2, 3, 4]\n"
     ]
    }
   ],
   "source": [
    "#Usando loop For para inserir dados numa lista vazia\n",
    "\n",
    "new_list = []\n",
    "old_list = [1,2,3,4]\n",
    "\n",
    "for item in old_list:\n",
    "    new_list.append(item)\n",
    "\n",
    "print(new_list)\n",
    "\n"
   ]
  },
  {
   "cell_type": "code",
   "execution_count": 47,
   "id": "ae80ffc4",
   "metadata": {
    "ExecuteTime": {
     "end_time": "2025-01-29T00:00:14.086025Z",
     "start_time": "2025-01-29T00:00:14.076456Z"
    }
   },
   "outputs": [
    {
     "name": "stdout",
     "output_type": "stream",
     "text": [
      "['ciudad bolivar', 'maturin', 'sucre', 'caracas', 'puerto ordaz', 'valencia', 'zulia']\n"
     ]
    }
   ],
   "source": [
    "# Criação de lista de cidades , logo extender a mesma acressentando valores o cidades con a função extend\n",
    "\n",
    "cidades = ['ciudad bolivar','maturin','sucre','caracas']\n",
    "\n",
    "cidades.extend(['puerto ordaz','valencia'])\n",
    "# Adicionando mas um item individual , ver acima a diferencia quando se precisam adicionar varios itens\n",
    "\n",
    "cidades.extend(['zulia'])\n",
    "\n",
    "print(cidades)"
   ]
  },
  {
   "cell_type": "code",
   "execution_count": 48,
   "id": "8f1c2acf",
   "metadata": {
    "ExecuteTime": {
     "end_time": "2025-01-29T00:02:14.784310Z",
     "start_time": "2025-01-29T00:02:14.771967Z"
    }
   },
   "outputs": [
    {
     "data": {
      "text/plain": [
       "4"
      ]
     },
     "execution_count": 48,
     "metadata": {},
     "output_type": "execute_result"
    }
   ],
   "source": [
    "# metodo index - usado para consulta de indice de um valor desconhecido\n",
    "cidades.index('puerto ordaz')"
   ]
  },
  {
   "cell_type": "code",
   "execution_count": 61,
   "id": "cc3b89fa",
   "metadata": {
    "ExecuteTime": {
     "end_time": "2025-01-29T00:04:48.911743Z",
     "start_time": "2025-01-29T00:04:48.901564Z"
    }
   },
   "outputs": [
    {
     "name": "stdout",
     "output_type": "stream",
     "text": [
      "['ciudad bolivar', 2, 'maturin', 'sucre', 'caracas', 'puerto ordaz', 'valencia', 'zulia']\n"
     ]
    }
   ],
   "source": [
    "#Insersão de itens .insert()\n",
    "cidades.insert(1,2)\n",
    "print(cidades)"
   ]
  },
  {
   "cell_type": "code",
   "execution_count": 64,
   "id": "59c0ba8c",
   "metadata": {
    "ExecuteTime": {
     "end_time": "2025-01-29T00:04:57.715068Z",
     "start_time": "2025-01-29T00:04:57.675412Z"
    }
   },
   "outputs": [
    {
     "ename": "ValueError",
     "evalue": "list.remove(x): x not in list",
     "output_type": "error",
     "traceback": [
      "\u001b[1;31m---------------------------------------------------------------------------\u001b[0m",
      "\u001b[1;31mValueError\u001b[0m                                Traceback (most recent call last)",
      "Cell \u001b[1;32mIn[64], line 2\u001b[0m\n\u001b[0;32m      1\u001b[0m \u001b[38;5;66;03m# Removendo itens da lista .remove()\u001b[39;00m\n\u001b[1;32m----> 2\u001b[0m \u001b[43mcidades\u001b[49m\u001b[38;5;241;43m.\u001b[39;49m\u001b[43mremove\u001b[49m\u001b[43m(\u001b[49m\u001b[38;5;241;43m2\u001b[39;49m\u001b[43m)\u001b[49m\n\u001b[0;32m      3\u001b[0m \u001b[38;5;28mprint\u001b[39m(cidades)\n",
      "\u001b[1;31mValueError\u001b[0m: list.remove(x): x not in list"
     ]
    }
   ],
   "source": [
    "# Removendo itens da lista .remove()\n",
    "cidades.remove(2)\n",
    "print(cidades)"
   ]
  },
  {
   "cell_type": "code",
   "execution_count": 67,
   "id": "4df523f8",
   "metadata": {
    "ExecuteTime": {
     "end_time": "2025-01-29T00:05:44.570126Z",
     "start_time": "2025-01-29T00:05:44.562578Z"
    }
   },
   "outputs": [
    {
     "name": "stdout",
     "output_type": "stream",
     "text": [
      "['zulia', 'valencia', 'puerto ordaz', 'caracas', 'sucre', 'maturin', 'ciudad bolivar']\n"
     ]
    }
   ],
   "source": [
    "# Metodo para reversão de lista .reverse()\n",
    "cidades.reverse()\n",
    "print(cidades)"
   ]
  },
  {
   "cell_type": "code",
   "execution_count": 70,
   "id": "35234467",
   "metadata": {
    "ExecuteTime": {
     "end_time": "2025-01-29T00:06:59.738051Z",
     "start_time": "2025-01-29T00:06:59.729355Z"
    }
   },
   "outputs": [
    {
     "name": "stdout",
     "output_type": "stream",
     "text": [
      "[2, 3, 4, 5, 8, 9, 10]\n"
     ]
    }
   ],
   "source": [
    "# Metodo ordenação de lista numerica .sort()\n",
    "numeros_aleatorios = [8,5,4,2,3,9,10]\n",
    "numeros_aleatorios.sort()\n",
    "\n",
    "print(numeros_aleatorios)"
   ]
  },
  {
   "cell_type": "markdown",
   "id": "5c2cc9c1",
   "metadata": {},
   "source": [
    "## Exercicios de codigo em python"
   ]
  },
  {
   "cell_type": "markdown",
   "id": "ec25b8ca",
   "metadata": {},
   "source": [
    "**1. Soma de elementos da lista**\n",
    "\n",
    "Crie uma lista de números inteiros e calcula a soma de todos os elementos"
   ]
  },
  {
   "cell_type": "code",
   "execution_count": 82,
   "id": "ecbcfdd9",
   "metadata": {
    "ExecuteTime": {
     "end_time": "2025-01-29T00:22:41.545431Z",
     "start_time": "2025-01-29T00:22:41.535001Z"
    }
   },
   "outputs": [
    {
     "name": "stdout",
     "output_type": "stream",
     "text": [
      "55\n"
     ]
    }
   ],
   "source": [
    "# Usando loop for\n",
    "\n",
    "lista = [1,2,3,4,5,6,7,8,9,10]\n",
    "lista_1 = 0\n",
    "\n",
    "for item in lista:\n",
    "    lista_1 += item\n",
    "    \n",
    "print(lista_1)\n",
    "\n"
   ]
  },
  {
   "cell_type": "code",
   "execution_count": 88,
   "id": "3414e6a1",
   "metadata": {
    "ExecuteTime": {
     "end_time": "2025-01-29T00:24:48.591731Z",
     "start_time": "2025-01-29T00:24:48.583198Z"
    }
   },
   "outputs": [
    {
     "name": "stdout",
     "output_type": "stream",
     "text": [
      "Segue soma de numeros encontrados na lista: 55\n"
     ]
    }
   ],
   "source": [
    "# Usando funçaõ sum()\n",
    "\n",
    "soma = sum(lista)\n",
    "print(f'Segue soma de numeros encontrados na lista: {soma}')"
   ]
  },
  {
   "cell_type": "markdown",
   "id": "ac13c725",
   "metadata": {},
   "source": [
    "**2. Encontre o maior e o menor número da lista**\n",
    "\n",
    "Dada uma lista de números, encontre o maior e o menor "
   ]
  },
  {
   "cell_type": "code",
   "execution_count": 98,
   "id": "082b5780",
   "metadata": {
    "ExecuteTime": {
     "end_time": "2025-01-29T01:04:16.778374Z",
     "start_time": "2025-01-29T01:04:16.768376Z"
    }
   },
   "outputs": [
    {
     "name": "stdout",
     "output_type": "stream",
     "text": [
      "Segue relação de maior e menor valor da lista: \n",
      "Maior numero =45\n",
      "Menor Valor = 6\n"
     ]
    }
   ],
   "source": [
    "# Usando metodos built\n",
    "\n",
    "numeros = [15, 23, 9, 45, 6]\n",
    "menor_valor = min(numeros)\n",
    "maior_valor = max(numeros)\n",
    "\n",
    "print(f'Segue relação de maior e menor valor da lista: \\nMaior numero ={maior_valor}\\nMenor Valor = {menor_valor}')\n",
    "\n"
   ]
  },
  {
   "cell_type": "code",
   "execution_count": 119,
   "id": "7ab4268c",
   "metadata": {
    "ExecuteTime": {
     "end_time": "2025-01-29T01:16:43.892400Z",
     "start_time": "2025-01-29T01:16:43.877297Z"
    }
   },
   "outputs": [
    {
     "name": "stdout",
     "output_type": "stream",
     "text": [
      "Segue menor valor encontrado: 45\n",
      "Segue maior valor encontrado: 1\n"
     ]
    }
   ],
   "source": [
    "# Usando Estrutura de dados\n",
    "\n",
    "#Pseudocodigo\n",
    "'''\n",
    "Iniciar maior_valor com o primeiro elemento da lista\n",
    "Iniciar menor_valor com o primeiro elemento da lista\n",
    "\n",
    "Para cada elemento na lista:\n",
    "    Se o elemento for maior que maior_valor:\n",
    "        Atualizar maior_valor para o elemento\n",
    "    Se o elemento for menor que menor_valor:\n",
    "        Atualizar menor_valor para o elemento\n",
    "\n",
    "Imprimir maior_valor\n",
    "Imprimir menor_valor\n",
    "\n",
    "'''\n",
    "\n",
    "numeros = [15, 23, 9, 45, 6,1]\n",
    "\n",
    "min = 3\n",
    "max = 1\n",
    "\n",
    "# percorrendo a lista usando loop For e realizando comparação de numeros\n",
    "\n",
    "for item in numeros:\n",
    "    if item > max:\n",
    "        max = item\n",
    "        \n",
    "    elif item < min:\n",
    "        min = item\n",
    "        \n",
    "print(f'Segue menor valor encontrado: {max}')\n",
    "print(f'Segue maior valor encontrado: {min}')"
   ]
  },
  {
   "cell_type": "markdown",
   "id": "b836a75f",
   "metadata": {},
   "source": [
    "**3. Conte ocorrências de um elemento na lista**\n",
    "\n",
    "Dada uma lista, conte quantas vezes o número 5 aparece"
   ]
  },
  {
   "cell_type": "code",
   "execution_count": 126,
   "id": "7aeeeb4b",
   "metadata": {
    "ExecuteTime": {
     "end_time": "2025-01-29T01:23:42.314725Z",
     "start_time": "2025-01-29T01:23:42.306207Z"
    }
   },
   "outputs": [
    {
     "name": "stdout",
     "output_type": "stream",
     "text": [
      "Segue relação de quantas vezes o número 5 se repete = 3\n"
     ]
    }
   ],
   "source": [
    "# Usando metodo count()\n",
    "numeros = [5, 3, 5, 2, 9, 5, 8]\n",
    "\n",
    "print(f'Segue relação de quantas vezes o número 5 se repete = {numeros.count(5)}')\n",
    "\n"
   ]
  },
  {
   "cell_type": "code",
   "execution_count": 135,
   "id": "411c5b76",
   "metadata": {
    "ExecuteTime": {
     "end_time": "2025-01-29T01:27:44.844240Z",
     "start_time": "2025-01-29T01:27:44.834619Z"
    }
   },
   "outputs": [
    {
     "name": "stdout",
     "output_type": "stream",
     "text": [
      "Valor total = 3\n"
     ]
    }
   ],
   "source": [
    "# usando loop foor\n",
    "\n",
    "total = 0\n",
    "\n",
    "for item in numeros:\n",
    "    if item ==5:\n",
    "        total +=1\n",
    "        \n",
    "print(f'Valor total = {total}')\n",
    "\n",
    "\n",
    "        "
   ]
  },
  {
   "cell_type": "markdown",
   "id": "58f193b5",
   "metadata": {},
   "source": []
  }
 ],
 "metadata": {
  "kernelspec": {
   "display_name": "Python 3 (ipykernel)",
   "language": "python",
   "name": "python3"
  },
  "language_info": {
   "codemirror_mode": {
    "name": "ipython",
    "version": 3
   },
   "file_extension": ".py",
   "mimetype": "text/x-python",
   "name": "python",
   "nbconvert_exporter": "python",
   "pygments_lexer": "ipython3",
   "version": "3.12.8"
  },
  "toc": {
   "base_numbering": 1,
   "nav_menu": {},
   "number_sections": true,
   "sideBar": true,
   "skip_h1_title": false,
   "title_cell": "Table of Contents",
   "title_sidebar": "Contents",
   "toc_cell": false,
   "toc_position": {
    "height": "calc(100% - 180px)",
    "left": "10px",
    "top": "150px",
    "width": "187px"
   },
   "toc_section_display": true,
   "toc_window_display": true
  },
  "varInspector": {
   "cols": {
    "lenName": 16,
    "lenType": 16,
    "lenVar": 40
   },
   "kernels_config": {
    "python": {
     "delete_cmd_postfix": "",
     "delete_cmd_prefix": "del ",
     "library": "var_list.py",
     "varRefreshCmd": "print(var_dic_list())"
    },
    "r": {
     "delete_cmd_postfix": ") ",
     "delete_cmd_prefix": "rm(",
     "library": "var_list.r",
     "varRefreshCmd": "cat(var_dic_list()) "
    }
   },
   "types_to_exclude": [
    "module",
    "function",
    "builtin_function_or_method",
    "instance",
    "_Feature"
   ],
   "window_display": false
  }
 },
 "nbformat": 4,
 "nbformat_minor": 5
}
